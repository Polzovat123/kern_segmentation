{
  "cells": [
    {
      "cell_type": "code",
      "execution_count": null,
      "metadata": {
        "colab": {
          "base_uri": "https://localhost:8080/"
        },
        "id": "3UqzDdglIhLL",
        "outputId": "30a549cb-cc4c-4c7a-ec5b-7d77a48dd71d"
      },
      "outputs": [
        {
          "name": "stdout",
          "output_type": "stream",
          "text": [
            "Collecting patchify\n",
            "  Downloading patchify-0.2.3-py3-none-any.whl (6.6 kB)\n",
            "Requirement already satisfied: numpy<2,>=1 in /usr/local/lib/python3.10/dist-packages (from patchify) (1.23.5)\n",
            "Installing collected packages: patchify\n",
            "Successfully installed patchify-0.2.3\n",
            "Collecting pytorch-toolbelt\n",
            "  Downloading pytorch_toolbelt-0.6.3-py3-none-any.whl (159 kB)\n",
            "\u001b[2K     \u001b[90m━━━━━━━━━━━━━━━━━━━━━━━━━━━━━━━━━━━━━━━━\u001b[0m \u001b[32m159.1/159.1 kB\u001b[0m \u001b[31m3.0 MB/s\u001b[0m eta \u001b[36m0:00:00\u001b[0m\n",
            "\u001b[?25hRequirement already satisfied: torch>=1.11.0 in /usr/local/lib/python3.10/dist-packages (from pytorch-toolbelt) (2.1.0+cu121)\n",
            "Requirement already satisfied: torchvision in /usr/local/lib/python3.10/dist-packages (from pytorch-toolbelt) (0.16.0+cu121)\n",
            "Requirement already satisfied: scipy>=1.4.0 in /usr/local/lib/python3.10/dist-packages (from pytorch-toolbelt) (1.11.4)\n",
            "Requirement already satisfied: opencv-python>=4.1 in /usr/local/lib/python3.10/dist-packages (from pytorch-toolbelt) (4.8.0.76)\n",
            "Requirement already satisfied: numpy>=1.21.2 in /usr/local/lib/python3.10/dist-packages (from opencv-python>=4.1->pytorch-toolbelt) (1.23.5)\n",
            "Requirement already satisfied: filelock in /usr/local/lib/python3.10/dist-packages (from torch>=1.11.0->pytorch-toolbelt) (3.13.1)\n",
            "Requirement already satisfied: typing-extensions in /usr/local/lib/python3.10/dist-packages (from torch>=1.11.0->pytorch-toolbelt) (4.5.0)\n",
            "Requirement already satisfied: sympy in /usr/local/lib/python3.10/dist-packages (from torch>=1.11.0->pytorch-toolbelt) (1.12)\n",
            "Requirement already satisfied: networkx in /usr/local/lib/python3.10/dist-packages (from torch>=1.11.0->pytorch-toolbelt) (3.2.1)\n",
            "Requirement already satisfied: jinja2 in /usr/local/lib/python3.10/dist-packages (from torch>=1.11.0->pytorch-toolbelt) (3.1.3)\n",
            "Requirement already satisfied: fsspec in /usr/local/lib/python3.10/dist-packages (from torch>=1.11.0->pytorch-toolbelt) (2023.6.0)\n",
            "Requirement already satisfied: triton==2.1.0 in /usr/local/lib/python3.10/dist-packages (from torch>=1.11.0->pytorch-toolbelt) (2.1.0)\n",
            "Requirement already satisfied: requests in /usr/local/lib/python3.10/dist-packages (from torchvision->pytorch-toolbelt) (2.31.0)\n",
            "Requirement already satisfied: pillow!=8.3.*,>=5.3.0 in /usr/local/lib/python3.10/dist-packages (from torchvision->pytorch-toolbelt) (9.4.0)\n",
            "Requirement already satisfied: MarkupSafe>=2.0 in /usr/local/lib/python3.10/dist-packages (from jinja2->torch>=1.11.0->pytorch-toolbelt) (2.1.4)\n",
            "Requirement already satisfied: charset-normalizer<4,>=2 in /usr/local/lib/python3.10/dist-packages (from requests->torchvision->pytorch-toolbelt) (3.3.2)\n",
            "Requirement already satisfied: idna<4,>=2.5 in /usr/local/lib/python3.10/dist-packages (from requests->torchvision->pytorch-toolbelt) (3.6)\n",
            "Requirement already satisfied: urllib3<3,>=1.21.1 in /usr/local/lib/python3.10/dist-packages (from requests->torchvision->pytorch-toolbelt) (2.0.7)\n",
            "Requirement already satisfied: certifi>=2017.4.17 in /usr/local/lib/python3.10/dist-packages (from requests->torchvision->pytorch-toolbelt) (2023.11.17)\n",
            "Requirement already satisfied: mpmath>=0.19 in /usr/local/lib/python3.10/dist-packages (from sympy->torch>=1.11.0->pytorch-toolbelt) (1.3.0)\n",
            "Installing collected packages: pytorch-toolbelt\n",
            "Successfully installed pytorch-toolbelt-0.6.3\n"
          ]
        }
      ],
      "source": [
        "!pip install matplotlib\n",
        "!pip install numpy\n",
        "!pip install seaborn\n",
        "!pip install scikit-image\n",
        "!pip install scikit-learn\n",
        "!pip install scipy\n",
        "!pip install pywavelets\n",
        "!pip install torch\n",
        "!pip install torchvision\n",
        "!pip install tqdm\n",
        "!pip install tifffile\n",
        "!pip install patchify\n",
        "!pip install pillow\n",
        "!pip install pytorch-toolbelt"
      ]
    },
    {
      "cell_type": "code",
      "execution_count": null,
      "metadata": {
        "id": "1HPeV0XEjXJZ"
      },
      "outputs": [],
      "source": [
        "import os\n",
        "import zipfile\n",
        "\n",
        "import matplotlib\n",
        "import matplotlib.pyplot as plt\n",
        "import numpy as np\n",
        "import seaborn as sns\n",
        "\n",
        "from skimage import data\n",
        "from skimage.filters import threshold_multiotsu\n",
        "from skimage.metrics import structural_similarity as ssim\n",
        "from skimage.metrics import mean_squared_error as mse\n",
        "from skimage import img_as_ubyte\n",
        "from skimage import io, color\n",
        "\n",
        "from sklearn.cluster import DBSCAN\n",
        "from sklearn.cluster import KMeans\n",
        "from sklearn.model_selection import train_test_split\n",
        "\n",
        "from scipy.fft import fft, fftfreq\n",
        "from scipy.ndimage import *\n",
        "from scipy.stats import pearsonr\n",
        "\n",
        "import pywt\n",
        "\n",
        "import torch\n",
        "import torch.nn as nn\n",
        "import torchvision.models as models\n",
        "from torchvision import transforms\n",
        "from torch.utils.data import DataLoader\n",
        "from torchvision.datasets import ImageFolder\n",
        "from torch.utils.data import DataLoader, TensorDataset\n",
        "\n",
        "from tqdm.notebook import tqdm\n",
        "import tifffile as tiff\n",
        "\n",
        "from patchify import patchify\n",
        "from PIL import Image\n",
        "\n",
        "import prepare_utils"
      ]
    },
    {
      "cell_type": "markdown",
      "metadata": {
        "id": "f_l0vgmBgVVp"
      },
      "source": [
        "# Uploads Data"
      ]
    },
    {
      "cell_type": "code",
      "execution_count": null,
      "metadata": {
        "colab": {
          "base_uri": "https://localhost:8080/"
        },
        "id": "wtFMApt8jbSF",
        "outputId": "699753ee-c9ab-431b-950a-b923e9551c1f"
      },
      "outputs": [
        {
          "data": {
            "text/plain": [
              "(2615, 2615)"
            ]
          },
          "execution_count": 7,
          "metadata": {},
          "output_type": "execute_result"
        }
      ],
      "source": [
        "input_image = Image.open('rec_00400.tif')\n",
        "\n",
        "input_matrix = np.array(input_image)\n",
        "input_matrix.shape"
      ]
    },
    {
      "cell_type": "code",
      "execution_count": null,
      "metadata": {
        "colab": {
          "base_uri": "https://localhost:8080/"
        },
        "id": "p8yXpK3M1wzA",
        "outputId": "f0a1f558-7511-4da3-b9c6-fd20ab7be1eb"
      },
      "outputs": [
        {
          "data": {
            "text/plain": [
              "(2615, 2615)"
            ]
          },
          "execution_count": 6,
          "metadata": {},
          "output_type": "execute_result"
        }
      ],
      "source": [
        "res = Image.open('Label_400_final.tif')\n",
        "\n",
        "output_martix = np.array(res)\n",
        "output_martix.shape"
      ]
    },
    {
      "cell_type": "markdown",
      "metadata": {
        "id": "DPelg_SVgXy7"
      },
      "source": [
        "# Preprocess Data"
      ]
    },
    {
      "cell_type": "markdown",
      "metadata": {
        "id": "9FngrrqMHcUD"
      },
      "source": [
        "## Augmentation"
      ]
    },
    {
      "cell_type": "code",
      "execution_count": null,
      "metadata": {
        "id": "RzdNXFAyACiO"
      },
      "outputs": [],
      "source": [
        "def image_rotate(image, d_a):\n",
        "    angles = np.arange(0, 350 + d_a, d_a)\n",
        "    r_img_list = []\n",
        "    for angle in angles:\n",
        "        r_img = rotate(image, angle, mode='reflect', reshape=False, order=0)\n",
        "        r_img_list.append(r_img)\n",
        "    return r_img_list\n",
        "def data_rotate(data, d_a):\n",
        "    data_list = []\n",
        "    for i in tqdm(range(data.shape[0])):\n",
        "        data_j_list = []\n",
        "        for j in range(data.shape[1]):\n",
        "            data_j_list += image_rotate(data[i, j], d_a)\n",
        "        data_list += data_j_list\n",
        "    rotated_data = np.asarray(data_list)\n",
        "    return rotated_data"
      ]
    },
    {
      "cell_type": "code",
      "execution_count": null,
      "metadata": {
        "id": "XUGyhSUCHy4o"
      },
      "outputs": [],
      "source": [
        "test_data_list = []\n",
        "\n",
        "data_cut_array = patchify(input_matrix, (128, 128), step=128)\n",
        "\n",
        "label_cut_array = patchify(output_martix, (128, 128), step=128)"
      ]
    },
    {
      "cell_type": "code",
      "execution_count": null,
      "metadata": {
        "colab": {
          "base_uri": "https://localhost:8080/"
        },
        "id": "MAibjb9fM3E5",
        "outputId": "c6a98b51-8c66-4b68-947d-e794668d2909"
      },
      "outputs": [
        {
          "data": {
            "text/plain": [
              "(20, 20, 128, 128)"
            ]
          },
          "execution_count": 10,
          "metadata": {},
          "output_type": "execute_result"
        }
      ],
      "source": [
        "label_cut_array.shape"
      ]
    },
    {
      "cell_type": "code",
      "execution_count": null,
      "metadata": {
        "colab": {
          "base_uri": "https://localhost:8080/",
          "height": 81,
          "referenced_widgets": [
            "90ec440947684de68ece7d4ab7d9fa40",
            "2992555a051d41efba19fed7a4a9966c",
            "155a293fbbe0486da4c86b1ceb941517",
            "3bd202a809ae4676b7ec85a7519ba9b0",
            "e13194ba5f674c7192d3a50deb436f1f",
            "f16fcf8d4a5f4d9c951a247f02fc9a16",
            "5afe6f8f4bba4a0bbf47b99041ceb88c",
            "fab8af6df5dd450f9cf0031112377425",
            "43639fcd159b47649cfa164a28b5c904",
            "08a24a3935b24557871fd6f284f34b13",
            "96040339996e4d9d98f785c9b32c5a18",
            "313ae424148d4db38936c67222247c59",
            "a401d9bb4d0f46ea9c7cd498d4a5e7c3",
            "a302231772b44c85b8d51a379814fb43",
            "96b590be1046400aac29720e9d09fb0f",
            "e7e87601443942728d603cde52a4a684",
            "fcff0529776b4b3b9dcce1852a09c06f",
            "38f86194eaa44e589c9af80530c83337",
            "a41f9f18a0894f9b9df20fbccdc37ffa",
            "168edf936d3942088c8ca52bb55ea975",
            "134085e9e0eb4354842b6ea29c2e1f5a",
            "e0118f5e0b804734a22b46270c890b2f"
          ]
        },
        "id": "Oj6Bq66XLJdY",
        "outputId": "bb50ee0a-896c-4e79-81c9-6c5b0bebddda"
      },
      "outputs": [
        {
          "data": {
            "application/vnd.jupyter.widget-view+json": {
              "model_id": "90ec440947684de68ece7d4ab7d9fa40",
              "version_major": 2,
              "version_minor": 0
            },
            "text/plain": [
              "  0%|          | 0/20 [00:00<?, ?it/s]"
            ]
          },
          "metadata": {},
          "output_type": "display_data"
        },
        {
          "data": {
            "application/vnd.jupyter.widget-view+json": {
              "model_id": "313ae424148d4db38936c67222247c59",
              "version_major": 2,
              "version_minor": 0
            },
            "text/plain": [
              "  0%|          | 0/20 [00:00<?, ?it/s]"
            ]
          },
          "metadata": {},
          "output_type": "display_data"
        }
      ],
      "source": [
        "# rotate\n",
        "rotated_cut_images = data_rotate(data_cut_array, d_a=10)\n",
        "\n",
        "rotated_label_images = data_rotate(label_cut_array, d_a=10)"
      ]
    },
    {
      "cell_type": "code",
      "execution_count": null,
      "metadata": {
        "colab": {
          "base_uri": "https://localhost:8080/"
        },
        "id": "GlIe94FzMcFf",
        "outputId": "c87996ce-682e-4553-fe49-b99d931de03b"
      },
      "outputs": [
        {
          "data": {
            "text/plain": [
              "(14400, 128, 128)"
            ]
          },
          "execution_count": 12,
          "metadata": {},
          "output_type": "execute_result"
        }
      ],
      "source": [
        "rotated_label_images.shape"
      ]
    },
    {
      "cell_type": "code",
      "execution_count": null,
      "metadata": {
        "id": "cbeC0YpXI0AJ"
      },
      "outputs": [],
      "source": [
        "# removing black img\n",
        "\n",
        "def process_and_filter_images(data_array, label_array, threshold=0.6):\n",
        "    valid_data_arrays = []\n",
        "    valid_label_arrays = []\n",
        "\n",
        "    for d_ind, _ in enumerate(data_array):\n",
        "        data_img = data_array[d_ind]\n",
        "        label_img = label_array[d_ind]\n",
        "\n",
        "        black_pixels = np.sum(data_img == 0)\n",
        "        all_pixels = data_img.size\n",
        "        black_pixel_percentage = black_pixels / all_pixels\n",
        "\n",
        "        if black_pixel_percentage <= threshold:\n",
        "            valid_data_arrays.append(data_img)\n",
        "            valid_label_arrays.append(label_img)\n",
        "    return np.array(valid_data_arrays), np.array(valid_label_arrays)"
      ]
    },
    {
      "cell_type": "code",
      "execution_count": null,
      "metadata": {
        "colab": {
          "base_uri": "https://localhost:8080/"
        },
        "id": "rkZ48OGtI3qh",
        "outputId": "97b9c7ea-478c-49d7-e069-c97ad953a46a"
      },
      "outputs": [
        {
          "name": "stdout",
          "output_type": "stream",
          "text": [
            "(14400, 128, 128)\n",
            "(11352, 128, 128)\n"
          ]
        }
      ],
      "source": [
        "print(rotated_cut_images.shape)\n",
        "rotated_cut_images, rotated_label_images = process_and_filter_images(rotated_cut_images, rotated_label_images)\n",
        "print(rotated_cut_images.shape)"
      ]
    },
    {
      "cell_type": "code",
      "execution_count": null,
      "metadata": {
        "id": "1IRXFCqHLdSp"
      },
      "outputs": [],
      "source": [
        "X = np.stack((rotated_cut_images, rotated_cut_images), axis=3)\n",
        "\n",
        "X_train, X_test, y_train, y_test = train_test_split(X, rotated_label_images, test_size=0.10, random_state=42)"
      ]
    },
    {
      "cell_type": "code",
      "execution_count": null,
      "metadata": {
        "colab": {
          "base_uri": "https://localhost:8080/"
        },
        "id": "TcTEbj_bJF84",
        "outputId": "31911773-841b-42dd-b811-46951d21802e"
      },
      "outputs": [
        {
          "name": "stdout",
          "output_type": "stream",
          "text": [
            "(10216, 128, 128, 2)\n"
          ]
        },
        {
          "data": {
            "text/plain": [
              "(11352, 128, 128, 2)"
            ]
          },
          "execution_count": 16,
          "metadata": {},
          "output_type": "execute_result"
        }
      ],
      "source": [
        "print(X_train.shape)\n",
        "X.shape"
      ]
    },
    {
      "cell_type": "markdown",
      "metadata": {
        "id": "G2HZ9Zmoj4gz"
      },
      "source": [
        "# AI models"
      ]
    },
    {
      "cell_type": "markdown",
      "metadata": {
        "id": "xJm6dDpoMThU"
      },
      "source": [
        "## Fully CNN"
      ]
    },
    {
      "cell_type": "code",
      "execution_count": null,
      "metadata": {
        "id": "_Fi6MloUMVLe"
      },
      "outputs": [],
      "source": [
        "class ConvBlock(nn.Module):\n",
        "    def __init__(self, in_channels, out_channels, kernel_size, activation):\n",
        "        super(ConvBlock, self).__init__()\n",
        "        self.conv_layer = nn.Conv2d(in_channels, out_channels, kernel_size=kernel_size, stride=1, padding=1)\n",
        "        self.batch_norm_layer = nn.BatchNorm2d(out_channels)\n",
        "        self.activation_layer = nn.ReLU() if activation == 'relu' else nn.PReLU()\n",
        "        self.dropout_layer = nn.Dropout2d(p=0.2)\n",
        "\n",
        "    def forward(self, x):\n",
        "        x = self.conv_layer(x)\n",
        "        x = self.batch_norm_layer(x)\n",
        "        x = self.activation_layer(x)\n",
        "        x = self.dropout_layer(x)\n",
        "        return x\n",
        "\n",
        "class FullyCNN(nn.Module):\n",
        "    def __init__(self, in_channels, pretrained_weights=None):\n",
        "        super(FullyCNN, self).__init__()\n",
        "\n",
        "        self.conv_layers_3x3 = nn.ModuleList([ConvBlock(in_channels, 32, kernel_size=3, activation='relu')])\n",
        "\n",
        "        self.n = 8\n",
        "        for i in range(self.n):\n",
        "            self.conv_layers_3x3.append(ConvBlock(32, 32, kernel_size=3, activation='relu'))\n",
        "\n",
        "        self.output_layer = nn.Conv2d(32, 1, kernel_size=3, stride=1, padding=1)\n",
        "\n",
        "    def forward(self, x):\n",
        "        for conv_layer in self.conv_layers_3x3:\n",
        "            x = conv_layer(x)\n",
        "        x = self.output_layer(x)\n",
        "        return x"
      ]
    },
    {
      "cell_type": "markdown",
      "metadata": {
        "id": "Iq98GfBfljKP"
      },
      "source": [
        "# Train models"
      ]
    },
    {
      "cell_type": "code",
      "execution_count": null,
      "metadata": {
        "colab": {
          "base_uri": "https://localhost:8080/"
        },
        "id": "RWVLiVd34HW_",
        "outputId": "09e51df3-2e54-47ff-8e5f-72ceccbe3289"
      },
      "outputs": [
        {
          "name": "stderr",
          "output_type": "stream",
          "text": [
            "/usr/local/lib/python3.10/dist-packages/torch/utils/data/dataloader.py:557: UserWarning: This DataLoader will create 4 worker processes in total. Our suggested max number of worker in current system is 2, which is smaller than what this DataLoader is going to create. Please be aware that excessive worker creation might get DataLoader running slow or even freeze, lower the worker number to avoid potential slowness/freeze if necessary.\n",
            "  warnings.warn(_create_warning_msg(\n"
          ]
        }
      ],
      "source": [
        "try:\n",
        "  X_tensor = torch.from_numpy(X_train).float()\n",
        "  y_tensor = torch.from_numpy(y_train).float()\n",
        "except Exception as e:\n",
        "  X_tensor = torch.from_numpy(X_train.astype(np.float32))\n",
        "  y_tensor = torch.from_numpy(y_train.astype(np.float32))\n",
        "\n",
        "dataset = TensorDataset(X_tensor, y_tensor)\n",
        "\n",
        "batch_size = 32\n",
        "train_loader = DataLoader(dataset, batch_size=1, shuffle=True, num_workers=4)"
      ]
    },
    {
      "cell_type": "markdown",
      "metadata": {
        "id": "qcLs_0rKlnS3"
      },
      "source": [
        "## Usefull function"
      ]
    },
    {
      "cell_type": "code",
      "execution_count": null,
      "metadata": {
        "id": "rJp5g6HDlk8S"
      },
      "outputs": [],
      "source": [
        "def calculate_accuracy(predictions, targets):\n",
        "    predictions = predictions.argmax(dim=1)\n",
        "    correct_pixels = torch.eq(predictions, targets).sum().item()\n",
        "    total_pixels = targets.numel()\n",
        "    accuracy = correct_pixels / total_pixels\n",
        "    return accuracy\n",
        "\n",
        "def calculate_iou(predictions, targets):\n",
        "    intersection = torch.logical_and(targets, predictions).sum().item()\n",
        "    union = torch.logical_or(targets, predictions).sum().item()\n",
        "    iou = intersection / union\n",
        "    return iou\n",
        "\n",
        "def log_metrics(phase, epoch, loss, accuracy, iou):\n",
        "    print(f'{phase}_loss', loss, epoch)\n",
        "    print(f'{phase}_accuracy', accuracy, epoch)\n",
        "    print(f'{phase}_iou', iou, epoch)\n",
        "\n",
        "def train(model, train_loader, criterion, optimizer, epoch, log_metrics, save_folder):\n",
        "    model.train()\n",
        "    total_loss = 0.0\n",
        "    total_accuracy = 0.0\n",
        "    total_iou = 0.0\n",
        "\n",
        "    for ep in tqdm(range(1, epoch+1)):\n",
        "      for (inputs, targets) in tqdm(train_loader):\n",
        "          inputs = inputs.unsqueeze(0).permute(0, 3, 1, 2)\n",
        "          targets = targets.unsqueeze(0).unsqueeze(-1).permute(0, 3, 1, 2)\n",
        "\n",
        "          optimizer.zero_grad()\n",
        "          outputs = model(inputs)\n",
        "\n",
        "          loss = criterion(outputs[0, 0, :, :], targets[0, 0, :, :])\n",
        "          loss.backward()\n",
        "          optimizer.step()\n",
        "\n",
        "          total_loss += loss.item()\n",
        "          accuracy = calculate_accuracy(outputs, targets)\n",
        "          total_accuracy += accuracy\n",
        "          iou = calculate_iou(outputs, targets)\n",
        "          total_iou += iou\n",
        "\n",
        "    average_loss = total_loss / len(train_loader)\n",
        "    average_accuracy = total_accuracy / len(train_loader)\n",
        "    average_iou = total_iou / len(train_loader)\n",
        "\n",
        "    log_metrics('train', epoch, average_loss, average_accuracy, average_iou)\n",
        "\n",
        "    if not os.path.exists(save_folder):\n",
        "        os.makedirs(save_folder)\n",
        "    save_path = f\"{save_folder}/model_epoch_{epoch}.pt\"\n",
        "    torch.save(model.state_dict(), save_path)\n",
        "\n",
        "    return save_path\n",
        "\n",
        "def validate(model, val_loader, criterion, epoch):\n",
        "    model.eval()\n",
        "    total_loss = 0.0\n",
        "    total_accuracy = 0.0\n",
        "    total_iou = 0.0\n",
        "\n",
        "    with torch.no_grad():\n",
        "        for inputs, targets in val_loader:\n",
        "            outputs = model(inputs)\n",
        "            loss = criterion(outputs, targets)\n",
        "\n",
        "            total_loss += loss.item()\n",
        "            accuracy = calculate_accuracy(outputs, targets)\n",
        "            total_accuracy += accuracy\n",
        "            iou = calculate_iou(outputs, targets)\n",
        "            total_iou += iou\n",
        "\n",
        "    average_loss = total_loss / len(val_loader)\n",
        "    average_accuracy = total_accuracy / len(val_loader)\n",
        "    average_iou = total_iou / len(val_loader)\n",
        "\n",
        "    log_metrics('val', epoch, average_loss, average_accuracy, average_iou)\n"
      ]
    },
    {
      "cell_type": "code",
      "execution_count": null,
      "metadata": {
        "id": "wCvliKuXtuSr"
      },
      "outputs": [],
      "source": [
        "def visualize_random_sample(model, train_loader):\n",
        "    random_index = np.random.randint(len(train_loader.dataset))\n",
        "    sample = train_loader.dataset[random_index]\n",
        "\n",
        "    input_image, target_mask = sample[0], sample[1]\n",
        "\n",
        "    input_image = input_image.unsqueeze(0).permute(0, 3, 1, 2)\n",
        "    target_mask = target_mask.unsqueeze(0).unsqueeze(-1).permute(0, 3, 1, 2)\n",
        "\n",
        "    model.eval()\n",
        "    with torch.no_grad():\n",
        "        predicted_mask = model(input_image)\n",
        "\n",
        "    print(random_index)\n",
        "    plt.figure(figsize=(12, 4))\n",
        "\n",
        "    plt.subplot(1, 3, 1)\n",
        "    plt.imshow(input_image[0, 0, :, :])\n",
        "    plt.title('Original Image')\n",
        "    plt.axis('off')\n",
        "\n",
        "    print(target_mask.shape)\n",
        "    plt.subplot(1, 3, 2)\n",
        "    plt.imshow(target_mask[0, 0, :, :], cmap='gray')\n",
        "    plt.title('Ground Truth Mask')\n",
        "    plt.axis('off')\n",
        "\n",
        "    print(predicted_mask.shape)\n",
        "    plt.subplot(1, 3, 3)\n",
        "    plt.imshow(predicted_mask.squeeze(), cmap='gray')\n",
        "    plt.title('Predicted Mask')\n",
        "    plt.axis('off')\n",
        "\n",
        "    plt.show()"
      ]
    },
    {
      "cell_type": "code",
      "execution_count": null,
      "metadata": {
        "id": "VPYk4yL0Qjmx"
      },
      "outputs": [],
      "source": [
        "def visualize_custom_sample(model, train_loader, index=3413):\n",
        "    sample = train_loader.dataset[index]\n",
        "\n",
        "    input_image, target_mask = sample[0], sample[1]\n",
        "\n",
        "    input_image = input_image.unsqueeze(0).permute(0, 3, 1, 2)\n",
        "    target_mask = target_mask.unsqueeze(0).unsqueeze(-1).permute(0, 3, 1, 2)\n",
        "\n",
        "    model.eval()\n",
        "    with torch.no_grad():\n",
        "        predicted_mask = model(input_image)\n",
        "\n",
        "    plt.figure(figsize=(12, 4))\n",
        "\n",
        "    plt.subplot(1, 3, 1)\n",
        "    plt.imshow(input_image[0, 0, :, :])\n",
        "    plt.title('Original Image')\n",
        "    plt.axis('off')\n",
        "\n",
        "    print(target_mask.shape)\n",
        "    plt.subplot(1, 3, 2)\n",
        "    plt.imshow(target_mask[0, 0, :, :])\n",
        "    plt.title('Ground Truth Mask')\n",
        "    plt.axis('off')\n",
        "\n",
        "    print(predicted_mask.shape)\n",
        "    plt.subplot(1, 3, 3)\n",
        "    plt.imshow(predicted_mask.squeeze())\n",
        "    plt.title('Predicted Mask')\n",
        "    plt.axis('off')\n",
        "\n",
        "    plt.show()"
      ]
    },
    {
      "cell_type": "code",
      "execution_count": null,
      "metadata": {
        "id": "RP0ktrM9fQdg"
      },
      "outputs": [],
      "source": [
        "def train_lovaz(model, train_loader, criterion, optimizer, epoch, log_metrics, save_folder):\n",
        "    model.train()\n",
        "    total_loss = 0.0\n",
        "    total_accuracy = 0.0\n",
        "    total_iou = 0.0\n",
        "\n",
        "    for ep in tqdm(range(1, epoch+1)):\n",
        "      for (inputs, targets) in tqdm(train_loader):\n",
        "          inputs = inputs.unsqueeze(0).permute(0, 3, 1, 2)\n",
        "          targets = targets.unsqueeze(0).unsqueeze(-1).permute(0, 3, 1, 2)\n",
        "\n",
        "          optimizer.zero_grad()\n",
        "          outputs = model(inputs)\n",
        "\n",
        "          print(f\"Output shape: {outputs[0, 0, :, :].shape}, Target shape: {targets[0, 0, :, :].shape}\")\n",
        "          loss = criterion(outputs[:, :, :, :], targets[:, :, :, :])\n",
        "          print(f'{loss}')\n",
        "          loss.backward()\n",
        "          optimizer.step()\n",
        "\n",
        "          total_loss += loss.item()\n",
        "          accuracy = calculate_accuracy(outputs, targets)\n",
        "          total_accuracy += accuracy\n",
        "          iou = calculate_iou(outputs, targets)\n",
        "          total_iou += iou\n",
        "\n",
        "    average_loss = total_loss / len(train_loader)\n",
        "    average_accuracy = total_accuracy / len(train_loader)\n",
        "    average_iou = total_iou / len(train_loader)\n",
        "\n",
        "    log_metrics('train', epoch, average_loss, average_accuracy, average_iou)\n",
        "\n",
        "    # Save the model if it has the best performance so far\n",
        "    if not os.path.exists(save_folder):\n",
        "        os.makedirs(save_folder)\n",
        "    save_path = f\"{save_folder}/model_epoch_{epoch}.pt\"\n",
        "    torch.save(model.state_dict(), save_path)\n",
        "\n",
        "    return save_path"
      ]
    },
    {
      "cell_type": "markdown",
      "metadata": {
        "id": "-BBuIv6ACPgU"
      },
      "source": [
        "### IOU+Dice"
      ]
    },
    {
      "cell_type": "code",
      "execution_count": null,
      "metadata": {
        "colab": {
          "base_uri": "https://localhost:8080/",
          "height": 98,
          "referenced_widgets": [
            "bbd6a3680acb4f259e190985e74e41cf",
            "b454197968e74834858393f91e19ffb2",
            "9a2c20a4634649f69667eac644538f58",
            "596c9e694f4742b2bb19d4ed93cabd0c",
            "9f2438e4f21046c383e16421a1dab3a4",
            "f749e9c51c464b7690f287c9e897f396",
            "6414e9d91871487394bb14c6c505f87d",
            "735e69b3ef544f849e84a92f92bbab6a",
            "97cdcd9d45ca4c04a6ce08ff0ccb38c1",
            "d244060144384f75adf7dc960a6d57a1",
            "ea13ec9c0b4d40aabab9ea85d0dd1e43",
            "59723ae9ecfa4fc4b3afa8718bcb74ce",
            "caed05fb735c46cea796e0b53022e5d6",
            "7ab4cfb897bc4e638332d46242210973",
            "530c7075ea404e29ae7958a3ab475a8b",
            "26528102c9a740e4aed7260775540db4",
            "704e843434f342c09d8bba2bda81e8b5",
            "b072f613e6f145a585fb95a4063b2edb",
            "cc6ddd8c77c04560beb1c00b737ca4e1",
            "cec1ede4fa4b45bbbf7d85bb4ee426ac",
            "4afa8dcd2ca143669a49f84f58716558",
            "2ca76f531441481d9001ece564894c6d",
            "1f90da2300af4339b9f7e0f1827db412"
          ]
        },
        "id": "py61LN9JQTIX",
        "outputId": "37657334-ea1f-4120-cf0c-d48cba52543e"
      },
      "outputs": [
        {
          "data": {
            "application/vnd.jupyter.widget-view+json": {
              "model_id": "bbd6a3680acb4f259e190985e74e41cf",
              "version_major": 2,
              "version_minor": 0
            },
            "text/plain": [
              "  0%|          | 0/10 [00:00<?, ?it/s]"
            ]
          },
          "metadata": {},
          "output_type": "display_data"
        },
        {
          "data": {
            "application/vnd.jupyter.widget-view+json": {
              "model_id": "59723ae9ecfa4fc4b3afa8718bcb74ce",
              "version_major": 2,
              "version_minor": 0
            },
            "text/plain": [
              "  0%|          | 0/10216 [00:00<?, ?it/s]"
            ]
          },
          "metadata": {},
          "output_type": "display_data"
        },
        {
          "data": {
            "application/vnd.jupyter.widget-view+json": {
              "model_id": "1f90da2300af4339b9f7e0f1827db412",
              "version_major": 2,
              "version_minor": 0
            },
            "text/plain": [
              "  0%|          | 0/10216 [00:00<?, ?it/s]"
            ]
          },
          "metadata": {},
          "output_type": "display_data"
        }
      ],
      "source": [
        "def generalIoU(pred, target):\n",
        "    intersection = torch.sum(torch.min(pred, target))\n",
        "    union = torch.sum(torch.max(pred, target))\n",
        "    iou = intersection / union\n",
        "    return iou\n",
        "\n",
        "def diceIoU(pred, target):\n",
        "    dice = (2 * torch.sum(torch.min(pred, target))) / (torch.sum(pred) + torch.sum(target))\n",
        "    iou = dice / (2 - dice)  # Convert Dice to IoU\n",
        "    return iou\n",
        "\n",
        "def completeIoU(pred, target):\n",
        "    intersection = torch.sum(torch.min(pred, target))\n",
        "    union = torch.sum(torch.max(pred, target))\n",
        "    iou = intersection / union\n",
        "\n",
        "    center_pred = (pred[:, 0] + pred[:, 2]) / 2, (pred[:, 1] + pred[:, 3]) / 2\n",
        "    center_target = (target[:, 0] + target[:, 2]) / 2, (target[:, 1] + target[:, 3]) / 2\n",
        "\n",
        "    center_distance = torch.sqrt((center_pred[0] - center_target[0])**2 + (center_pred[1] - center_target[1])**2)\n",
        "    diagonal = torch.sqrt((torch.max(pred[:, 2], target[:, 2]) - torch.min(pred[:, 0], target[:, 0]))**2 +\n",
        "                         (torch.max(pred[:, 3], target[:, 3]) - torch.min(pred[:, 1], target[:, 1]))**2)\n",
        "\n",
        "    cIoU = iou - (center_distance**2) / diagonal**2\n",
        "    return cIoU\n",
        "\n",
        "\n",
        "def criterion(pred, target):\n",
        "    dice_iou_loss = 1 - (diceIoU(pred, target) + completeIoU(pred, target))\n",
        "    return torch.mean(dice_iou_loss)\n",
        "\n",
        "EPOCH=1\n",
        "\n",
        "model = FullyCNN(in_channels=2)\n",
        "optimizer = torch.optim.Adam(model.parameters(), lr=0.001)\n",
        "log_metrics = lambda *args: print(args)\n",
        "\n",
        "train(model, dataset, criterion, optimizer, EPOCH, log_metrics, 'fully_cnn_custom_metric')"
      ]
    },
    {
      "cell_type": "code",
      "source": [
        "%%time\n",
        "visualize_custom_sample(model, train_loader)"
      ],
      "metadata": {
        "id": "-9XN_Op3BQ0W"
      },
      "execution_count": null,
      "outputs": []
    }
  ],
  "metadata": {
    "colab": {
      "collapsed_sections": [
        "2fiIxAna6CHY",
        "xJm6dDpoMThU",
        "qcLs_0rKlnS3"
      ],
      "provenance": []
    },
    "kernelspec": {
      "display_name": "Python 3",
      "name": "python3"
    },
    "language_info": {
      "name": "python"
    },
    "widgets": {
      "application/vnd.jupyter.widget-state+json": {
        "08a24a3935b24557871fd6f284f34b13": {
          "model_module": "@jupyter-widgets/base",
          "model_module_version": "1.2.0",
          "model_name": "LayoutModel",
          "state": {
            "_model_module": "@jupyter-widgets/base",
            "_model_module_version": "1.2.0",
            "_model_name": "LayoutModel",
            "_view_count": null,
            "_view_module": "@jupyter-widgets/base",
            "_view_module_version": "1.2.0",
            "_view_name": "LayoutView",
            "align_content": null,
            "align_items": null,
            "align_self": null,
            "border": null,
            "bottom": null,
            "display": null,
            "flex": null,
            "flex_flow": null,
            "grid_area": null,
            "grid_auto_columns": null,
            "grid_auto_flow": null,
            "grid_auto_rows": null,
            "grid_column": null,
            "grid_gap": null,
            "grid_row": null,
            "grid_template_areas": null,
            "grid_template_columns": null,
            "grid_template_rows": null,
            "height": null,
            "justify_content": null,
            "justify_items": null,
            "left": null,
            "margin": null,
            "max_height": null,
            "max_width": null,
            "min_height": null,
            "min_width": null,
            "object_fit": null,
            "object_position": null,
            "order": null,
            "overflow": null,
            "overflow_x": null,
            "overflow_y": null,
            "padding": null,
            "right": null,
            "top": null,
            "visibility": null,
            "width": null
          }
        },
        "134085e9e0eb4354842b6ea29c2e1f5a": {
          "model_module": "@jupyter-widgets/base",
          "model_module_version": "1.2.0",
          "model_name": "LayoutModel",
          "state": {
            "_model_module": "@jupyter-widgets/base",
            "_model_module_version": "1.2.0",
            "_model_name": "LayoutModel",
            "_view_count": null,
            "_view_module": "@jupyter-widgets/base",
            "_view_module_version": "1.2.0",
            "_view_name": "LayoutView",
            "align_content": null,
            "align_items": null,
            "align_self": null,
            "border": null,
            "bottom": null,
            "display": null,
            "flex": null,
            "flex_flow": null,
            "grid_area": null,
            "grid_auto_columns": null,
            "grid_auto_flow": null,
            "grid_auto_rows": null,
            "grid_column": null,
            "grid_gap": null,
            "grid_row": null,
            "grid_template_areas": null,
            "grid_template_columns": null,
            "grid_template_rows": null,
            "height": null,
            "justify_content": null,
            "justify_items": null,
            "left": null,
            "margin": null,
            "max_height": null,
            "max_width": null,
            "min_height": null,
            "min_width": null,
            "object_fit": null,
            "object_position": null,
            "order": null,
            "overflow": null,
            "overflow_x": null,
            "overflow_y": null,
            "padding": null,
            "right": null,
            "top": null,
            "visibility": null,
            "width": null
          }
        },
        "155a293fbbe0486da4c86b1ceb941517": {
          "model_module": "@jupyter-widgets/controls",
          "model_module_version": "1.5.0",
          "model_name": "FloatProgressModel",
          "state": {
            "_dom_classes": [],
            "_model_module": "@jupyter-widgets/controls",
            "_model_module_version": "1.5.0",
            "_model_name": "FloatProgressModel",
            "_view_count": null,
            "_view_module": "@jupyter-widgets/controls",
            "_view_module_version": "1.5.0",
            "_view_name": "ProgressView",
            "bar_style": "success",
            "description": "",
            "description_tooltip": null,
            "layout": "IPY_MODEL_fab8af6df5dd450f9cf0031112377425",
            "max": 20,
            "min": 0,
            "orientation": "horizontal",
            "style": "IPY_MODEL_43639fcd159b47649cfa164a28b5c904",
            "value": 20
          }
        },
        "168edf936d3942088c8ca52bb55ea975": {
          "model_module": "@jupyter-widgets/controls",
          "model_module_version": "1.5.0",
          "model_name": "ProgressStyleModel",
          "state": {
            "_model_module": "@jupyter-widgets/controls",
            "_model_module_version": "1.5.0",
            "_model_name": "ProgressStyleModel",
            "_view_count": null,
            "_view_module": "@jupyter-widgets/base",
            "_view_module_version": "1.2.0",
            "_view_name": "StyleView",
            "bar_color": null,
            "description_width": ""
          }
        },
        "26528102c9a740e4aed7260775540db4": {
          "model_module": "@jupyter-widgets/base",
          "model_module_version": "1.2.0",
          "model_name": "LayoutModel",
          "state": {
            "_model_module": "@jupyter-widgets/base",
            "_model_module_version": "1.2.0",
            "_model_name": "LayoutModel",
            "_view_count": null,
            "_view_module": "@jupyter-widgets/base",
            "_view_module_version": "1.2.0",
            "_view_name": "LayoutView",
            "align_content": null,
            "align_items": null,
            "align_self": null,
            "border": null,
            "bottom": null,
            "display": null,
            "flex": null,
            "flex_flow": null,
            "grid_area": null,
            "grid_auto_columns": null,
            "grid_auto_flow": null,
            "grid_auto_rows": null,
            "grid_column": null,
            "grid_gap": null,
            "grid_row": null,
            "grid_template_areas": null,
            "grid_template_columns": null,
            "grid_template_rows": null,
            "height": null,
            "justify_content": null,
            "justify_items": null,
            "left": null,
            "margin": null,
            "max_height": null,
            "max_width": null,
            "min_height": null,
            "min_width": null,
            "object_fit": null,
            "object_position": null,
            "order": null,
            "overflow": null,
            "overflow_x": null,
            "overflow_y": null,
            "padding": null,
            "right": null,
            "top": null,
            "visibility": null,
            "width": null
          }
        },
        "2992555a051d41efba19fed7a4a9966c": {
          "model_module": "@jupyter-widgets/controls",
          "model_module_version": "1.5.0",
          "model_name": "HTMLModel",
          "state": {
            "_dom_classes": [],
            "_model_module": "@jupyter-widgets/controls",
            "_model_module_version": "1.5.0",
            "_model_name": "HTMLModel",
            "_view_count": null,
            "_view_module": "@jupyter-widgets/controls",
            "_view_module_version": "1.5.0",
            "_view_name": "HTMLView",
            "description": "",
            "description_tooltip": null,
            "layout": "IPY_MODEL_f16fcf8d4a5f4d9c951a247f02fc9a16",
            "placeholder": "​",
            "style": "IPY_MODEL_5afe6f8f4bba4a0bbf47b99041ceb88c",
            "value": "100%"
          }
        },
        "2ca76f531441481d9001ece564894c6d": {
          "model_module": "@jupyter-widgets/controls",
          "model_module_version": "1.5.0",
          "model_name": "DescriptionStyleModel",
          "state": {
            "_model_module": "@jupyter-widgets/controls",
            "_model_module_version": "1.5.0",
            "_model_name": "DescriptionStyleModel",
            "_view_count": null,
            "_view_module": "@jupyter-widgets/base",
            "_view_module_version": "1.2.0",
            "_view_name": "StyleView",
            "description_width": ""
          }
        },
        "313ae424148d4db38936c67222247c59": {
          "model_module": "@jupyter-widgets/controls",
          "model_module_version": "1.5.0",
          "model_name": "HBoxModel",
          "state": {
            "_dom_classes": [],
            "_model_module": "@jupyter-widgets/controls",
            "_model_module_version": "1.5.0",
            "_model_name": "HBoxModel",
            "_view_count": null,
            "_view_module": "@jupyter-widgets/controls",
            "_view_module_version": "1.5.0",
            "_view_name": "HBoxView",
            "box_style": "",
            "children": [
              "IPY_MODEL_a401d9bb4d0f46ea9c7cd498d4a5e7c3",
              "IPY_MODEL_a302231772b44c85b8d51a379814fb43",
              "IPY_MODEL_96b590be1046400aac29720e9d09fb0f"
            ],
            "layout": "IPY_MODEL_e7e87601443942728d603cde52a4a684"
          }
        },
        "38f86194eaa44e589c9af80530c83337": {
          "model_module": "@jupyter-widgets/controls",
          "model_module_version": "1.5.0",
          "model_name": "DescriptionStyleModel",
          "state": {
            "_model_module": "@jupyter-widgets/controls",
            "_model_module_version": "1.5.0",
            "_model_name": "DescriptionStyleModel",
            "_view_count": null,
            "_view_module": "@jupyter-widgets/base",
            "_view_module_version": "1.2.0",
            "_view_name": "StyleView",
            "description_width": ""
          }
        },
        "3bd202a809ae4676b7ec85a7519ba9b0": {
          "model_module": "@jupyter-widgets/controls",
          "model_module_version": "1.5.0",
          "model_name": "HTMLModel",
          "state": {
            "_dom_classes": [],
            "_model_module": "@jupyter-widgets/controls",
            "_model_module_version": "1.5.0",
            "_model_name": "HTMLModel",
            "_view_count": null,
            "_view_module": "@jupyter-widgets/controls",
            "_view_module_version": "1.5.0",
            "_view_name": "HTMLView",
            "description": "",
            "description_tooltip": null,
            "layout": "IPY_MODEL_08a24a3935b24557871fd6f284f34b13",
            "placeholder": "​",
            "style": "IPY_MODEL_96040339996e4d9d98f785c9b32c5a18",
            "value": " 20/20 [00:14&lt;00:00,  1.47it/s]"
          }
        },
        "43639fcd159b47649cfa164a28b5c904": {
          "model_module": "@jupyter-widgets/controls",
          "model_module_version": "1.5.0",
          "model_name": "ProgressStyleModel",
          "state": {
            "_model_module": "@jupyter-widgets/controls",
            "_model_module_version": "1.5.0",
            "_model_name": "ProgressStyleModel",
            "_view_count": null,
            "_view_module": "@jupyter-widgets/base",
            "_view_module_version": "1.2.0",
            "_view_name": "StyleView",
            "bar_color": null,
            "description_width": ""
          }
        },
        "4afa8dcd2ca143669a49f84f58716558": {
          "model_module": "@jupyter-widgets/base",
          "model_module_version": "1.2.0",
          "model_name": "LayoutModel",
          "state": {
            "_model_module": "@jupyter-widgets/base",
            "_model_module_version": "1.2.0",
            "_model_name": "LayoutModel",
            "_view_count": null,
            "_view_module": "@jupyter-widgets/base",
            "_view_module_version": "1.2.0",
            "_view_name": "LayoutView",
            "align_content": null,
            "align_items": null,
            "align_self": null,
            "border": null,
            "bottom": null,
            "display": null,
            "flex": null,
            "flex_flow": null,
            "grid_area": null,
            "grid_auto_columns": null,
            "grid_auto_flow": null,
            "grid_auto_rows": null,
            "grid_column": null,
            "grid_gap": null,
            "grid_row": null,
            "grid_template_areas": null,
            "grid_template_columns": null,
            "grid_template_rows": null,
            "height": null,
            "justify_content": null,
            "justify_items": null,
            "left": null,
            "margin": null,
            "max_height": null,
            "max_width": null,
            "min_height": null,
            "min_width": null,
            "object_fit": null,
            "object_position": null,
            "order": null,
            "overflow": null,
            "overflow_x": null,
            "overflow_y": null,
            "padding": null,
            "right": null,
            "top": null,
            "visibility": null,
            "width": null
          }
        },
        "530c7075ea404e29ae7958a3ab475a8b": {
          "model_module": "@jupyter-widgets/controls",
          "model_module_version": "1.5.0",
          "model_name": "HTMLModel",
          "state": {
            "_dom_classes": [],
            "_model_module": "@jupyter-widgets/controls",
            "_model_module_version": "1.5.0",
            "_model_name": "HTMLModel",
            "_view_count": null,
            "_view_module": "@jupyter-widgets/controls",
            "_view_module_version": "1.5.0",
            "_view_name": "HTMLView",
            "description": "",
            "description_tooltip": null,
            "layout": "IPY_MODEL_4afa8dcd2ca143669a49f84f58716558",
            "placeholder": "​",
            "style": "IPY_MODEL_2ca76f531441481d9001ece564894c6d",
            "value": " 7269/10216 [45:15&lt;23:09,  2.12it/s]"
          }
        },
        "596c9e694f4742b2bb19d4ed93cabd0c": {
          "model_module": "@jupyter-widgets/controls",
          "model_module_version": "1.5.0",
          "model_name": "HTMLModel",
          "state": {
            "_dom_classes": [],
            "_model_module": "@jupyter-widgets/controls",
            "_model_module_version": "1.5.0",
            "_model_name": "HTMLModel",
            "_view_count": null,
            "_view_module": "@jupyter-widgets/controls",
            "_view_module_version": "1.5.0",
            "_view_name": "HTMLView",
            "description": "",
            "description_tooltip": null,
            "layout": "IPY_MODEL_d244060144384f75adf7dc960a6d57a1",
            "placeholder": "​",
            "style": "IPY_MODEL_ea13ec9c0b4d40aabab9ea85d0dd1e43",
            "value": " 0/10 [00:00&lt;?, ?it/s]"
          }
        },
        "59723ae9ecfa4fc4b3afa8718bcb74ce": {
          "model_module": "@jupyter-widgets/controls",
          "model_module_version": "1.5.0",
          "model_name": "HBoxModel",
          "state": {
            "_dom_classes": [],
            "_model_module": "@jupyter-widgets/controls",
            "_model_module_version": "1.5.0",
            "_model_name": "HBoxModel",
            "_view_count": null,
            "_view_module": "@jupyter-widgets/controls",
            "_view_module_version": "1.5.0",
            "_view_name": "HBoxView",
            "box_style": "",
            "children": [
              "IPY_MODEL_caed05fb735c46cea796e0b53022e5d6",
              "IPY_MODEL_7ab4cfb897bc4e638332d46242210973",
              "IPY_MODEL_530c7075ea404e29ae7958a3ab475a8b"
            ],
            "layout": "IPY_MODEL_26528102c9a740e4aed7260775540db4"
          }
        },
        "5afe6f8f4bba4a0bbf47b99041ceb88c": {
          "model_module": "@jupyter-widgets/controls",
          "model_module_version": "1.5.0",
          "model_name": "DescriptionStyleModel",
          "state": {
            "_model_module": "@jupyter-widgets/controls",
            "_model_module_version": "1.5.0",
            "_model_name": "DescriptionStyleModel",
            "_view_count": null,
            "_view_module": "@jupyter-widgets/base",
            "_view_module_version": "1.2.0",
            "_view_name": "StyleView",
            "description_width": ""
          }
        },
        "6414e9d91871487394bb14c6c505f87d": {
          "model_module": "@jupyter-widgets/controls",
          "model_module_version": "1.5.0",
          "model_name": "DescriptionStyleModel",
          "state": {
            "_model_module": "@jupyter-widgets/controls",
            "_model_module_version": "1.5.0",
            "_model_name": "DescriptionStyleModel",
            "_view_count": null,
            "_view_module": "@jupyter-widgets/base",
            "_view_module_version": "1.2.0",
            "_view_name": "StyleView",
            "description_width": ""
          }
        },
        "704e843434f342c09d8bba2bda81e8b5": {
          "model_module": "@jupyter-widgets/base",
          "model_module_version": "1.2.0",
          "model_name": "LayoutModel",
          "state": {
            "_model_module": "@jupyter-widgets/base",
            "_model_module_version": "1.2.0",
            "_model_name": "LayoutModel",
            "_view_count": null,
            "_view_module": "@jupyter-widgets/base",
            "_view_module_version": "1.2.0",
            "_view_name": "LayoutView",
            "align_content": null,
            "align_items": null,
            "align_self": null,
            "border": null,
            "bottom": null,
            "display": null,
            "flex": null,
            "flex_flow": null,
            "grid_area": null,
            "grid_auto_columns": null,
            "grid_auto_flow": null,
            "grid_auto_rows": null,
            "grid_column": null,
            "grid_gap": null,
            "grid_row": null,
            "grid_template_areas": null,
            "grid_template_columns": null,
            "grid_template_rows": null,
            "height": null,
            "justify_content": null,
            "justify_items": null,
            "left": null,
            "margin": null,
            "max_height": null,
            "max_width": null,
            "min_height": null,
            "min_width": null,
            "object_fit": null,
            "object_position": null,
            "order": null,
            "overflow": null,
            "overflow_x": null,
            "overflow_y": null,
            "padding": null,
            "right": null,
            "top": null,
            "visibility": null,
            "width": null
          }
        },
        "735e69b3ef544f849e84a92f92bbab6a": {
          "model_module": "@jupyter-widgets/base",
          "model_module_version": "1.2.0",
          "model_name": "LayoutModel",
          "state": {
            "_model_module": "@jupyter-widgets/base",
            "_model_module_version": "1.2.0",
            "_model_name": "LayoutModel",
            "_view_count": null,
            "_view_module": "@jupyter-widgets/base",
            "_view_module_version": "1.2.0",
            "_view_name": "LayoutView",
            "align_content": null,
            "align_items": null,
            "align_self": null,
            "border": null,
            "bottom": null,
            "display": null,
            "flex": null,
            "flex_flow": null,
            "grid_area": null,
            "grid_auto_columns": null,
            "grid_auto_flow": null,
            "grid_auto_rows": null,
            "grid_column": null,
            "grid_gap": null,
            "grid_row": null,
            "grid_template_areas": null,
            "grid_template_columns": null,
            "grid_template_rows": null,
            "height": null,
            "justify_content": null,
            "justify_items": null,
            "left": null,
            "margin": null,
            "max_height": null,
            "max_width": null,
            "min_height": null,
            "min_width": null,
            "object_fit": null,
            "object_position": null,
            "order": null,
            "overflow": null,
            "overflow_x": null,
            "overflow_y": null,
            "padding": null,
            "right": null,
            "top": null,
            "visibility": null,
            "width": null
          }
        },
        "7ab4cfb897bc4e638332d46242210973": {
          "model_module": "@jupyter-widgets/controls",
          "model_module_version": "1.5.0",
          "model_name": "FloatProgressModel",
          "state": {
            "_dom_classes": [],
            "_model_module": "@jupyter-widgets/controls",
            "_model_module_version": "1.5.0",
            "_model_name": "FloatProgressModel",
            "_view_count": null,
            "_view_module": "@jupyter-widgets/controls",
            "_view_module_version": "1.5.0",
            "_view_name": "ProgressView",
            "bar_style": "",
            "description": "",
            "description_tooltip": null,
            "layout": "IPY_MODEL_cc6ddd8c77c04560beb1c00b737ca4e1",
            "max": 10216,
            "min": 0,
            "orientation": "horizontal",
            "style": "IPY_MODEL_cec1ede4fa4b45bbbf7d85bb4ee426ac",
            "value": 7270
          }
        },
        "90ec440947684de68ece7d4ab7d9fa40": {
          "model_module": "@jupyter-widgets/controls",
          "model_module_version": "1.5.0",
          "model_name": "HBoxModel",
          "state": {
            "_dom_classes": [],
            "_model_module": "@jupyter-widgets/controls",
            "_model_module_version": "1.5.0",
            "_model_name": "HBoxModel",
            "_view_count": null,
            "_view_module": "@jupyter-widgets/controls",
            "_view_module_version": "1.5.0",
            "_view_name": "HBoxView",
            "box_style": "",
            "children": [
              "IPY_MODEL_2992555a051d41efba19fed7a4a9966c",
              "IPY_MODEL_155a293fbbe0486da4c86b1ceb941517",
              "IPY_MODEL_3bd202a809ae4676b7ec85a7519ba9b0"
            ],
            "layout": "IPY_MODEL_e13194ba5f674c7192d3a50deb436f1f"
          }
        },
        "96040339996e4d9d98f785c9b32c5a18": {
          "model_module": "@jupyter-widgets/controls",
          "model_module_version": "1.5.0",
          "model_name": "DescriptionStyleModel",
          "state": {
            "_model_module": "@jupyter-widgets/controls",
            "_model_module_version": "1.5.0",
            "_model_name": "DescriptionStyleModel",
            "_view_count": null,
            "_view_module": "@jupyter-widgets/base",
            "_view_module_version": "1.2.0",
            "_view_name": "StyleView",
            "description_width": ""
          }
        },
        "96b590be1046400aac29720e9d09fb0f": {
          "model_module": "@jupyter-widgets/controls",
          "model_module_version": "1.5.0",
          "model_name": "HTMLModel",
          "state": {
            "_dom_classes": [],
            "_model_module": "@jupyter-widgets/controls",
            "_model_module_version": "1.5.0",
            "_model_name": "HTMLModel",
            "_view_count": null,
            "_view_module": "@jupyter-widgets/controls",
            "_view_module_version": "1.5.0",
            "_view_name": "HTMLView",
            "description": "",
            "description_tooltip": null,
            "layout": "IPY_MODEL_134085e9e0eb4354842b6ea29c2e1f5a",
            "placeholder": "​",
            "style": "IPY_MODEL_e0118f5e0b804734a22b46270c890b2f",
            "value": " 20/20 [00:13&lt;00:00,  1.58it/s]"
          }
        },
        "97cdcd9d45ca4c04a6ce08ff0ccb38c1": {
          "model_module": "@jupyter-widgets/controls",
          "model_module_version": "1.5.0",
          "model_name": "ProgressStyleModel",
          "state": {
            "_model_module": "@jupyter-widgets/controls",
            "_model_module_version": "1.5.0",
            "_model_name": "ProgressStyleModel",
            "_view_count": null,
            "_view_module": "@jupyter-widgets/base",
            "_view_module_version": "1.2.0",
            "_view_name": "StyleView",
            "bar_color": null,
            "description_width": ""
          }
        },
        "9a2c20a4634649f69667eac644538f58": {
          "model_module": "@jupyter-widgets/controls",
          "model_module_version": "1.5.0",
          "model_name": "FloatProgressModel",
          "state": {
            "_dom_classes": [],
            "_model_module": "@jupyter-widgets/controls",
            "_model_module_version": "1.5.0",
            "_model_name": "FloatProgressModel",
            "_view_count": null,
            "_view_module": "@jupyter-widgets/controls",
            "_view_module_version": "1.5.0",
            "_view_name": "ProgressView",
            "bar_style": "",
            "description": "",
            "description_tooltip": null,
            "layout": "IPY_MODEL_735e69b3ef544f849e84a92f92bbab6a",
            "max": 10,
            "min": 0,
            "orientation": "horizontal",
            "style": "IPY_MODEL_97cdcd9d45ca4c04a6ce08ff0ccb38c1",
            "value": 0
          }
        },
        "9f2438e4f21046c383e16421a1dab3a4": {
          "model_module": "@jupyter-widgets/base",
          "model_module_version": "1.2.0",
          "model_name": "LayoutModel",
          "state": {
            "_model_module": "@jupyter-widgets/base",
            "_model_module_version": "1.2.0",
            "_model_name": "LayoutModel",
            "_view_count": null,
            "_view_module": "@jupyter-widgets/base",
            "_view_module_version": "1.2.0",
            "_view_name": "LayoutView",
            "align_content": null,
            "align_items": null,
            "align_self": null,
            "border": null,
            "bottom": null,
            "display": null,
            "flex": null,
            "flex_flow": null,
            "grid_area": null,
            "grid_auto_columns": null,
            "grid_auto_flow": null,
            "grid_auto_rows": null,
            "grid_column": null,
            "grid_gap": null,
            "grid_row": null,
            "grid_template_areas": null,
            "grid_template_columns": null,
            "grid_template_rows": null,
            "height": null,
            "justify_content": null,
            "justify_items": null,
            "left": null,
            "margin": null,
            "max_height": null,
            "max_width": null,
            "min_height": null,
            "min_width": null,
            "object_fit": null,
            "object_position": null,
            "order": null,
            "overflow": null,
            "overflow_x": null,
            "overflow_y": null,
            "padding": null,
            "right": null,
            "top": null,
            "visibility": null,
            "width": null
          }
        },
        "a302231772b44c85b8d51a379814fb43": {
          "model_module": "@jupyter-widgets/controls",
          "model_module_version": "1.5.0",
          "model_name": "FloatProgressModel",
          "state": {
            "_dom_classes": [],
            "_model_module": "@jupyter-widgets/controls",
            "_model_module_version": "1.5.0",
            "_model_name": "FloatProgressModel",
            "_view_count": null,
            "_view_module": "@jupyter-widgets/controls",
            "_view_module_version": "1.5.0",
            "_view_name": "ProgressView",
            "bar_style": "success",
            "description": "",
            "description_tooltip": null,
            "layout": "IPY_MODEL_a41f9f18a0894f9b9df20fbccdc37ffa",
            "max": 20,
            "min": 0,
            "orientation": "horizontal",
            "style": "IPY_MODEL_168edf936d3942088c8ca52bb55ea975",
            "value": 20
          }
        },
        "a401d9bb4d0f46ea9c7cd498d4a5e7c3": {
          "model_module": "@jupyter-widgets/controls",
          "model_module_version": "1.5.0",
          "model_name": "HTMLModel",
          "state": {
            "_dom_classes": [],
            "_model_module": "@jupyter-widgets/controls",
            "_model_module_version": "1.5.0",
            "_model_name": "HTMLModel",
            "_view_count": null,
            "_view_module": "@jupyter-widgets/controls",
            "_view_module_version": "1.5.0",
            "_view_name": "HTMLView",
            "description": "",
            "description_tooltip": null,
            "layout": "IPY_MODEL_fcff0529776b4b3b9dcce1852a09c06f",
            "placeholder": "​",
            "style": "IPY_MODEL_38f86194eaa44e589c9af80530c83337",
            "value": "100%"
          }
        },
        "a41f9f18a0894f9b9df20fbccdc37ffa": {
          "model_module": "@jupyter-widgets/base",
          "model_module_version": "1.2.0",
          "model_name": "LayoutModel",
          "state": {
            "_model_module": "@jupyter-widgets/base",
            "_model_module_version": "1.2.0",
            "_model_name": "LayoutModel",
            "_view_count": null,
            "_view_module": "@jupyter-widgets/base",
            "_view_module_version": "1.2.0",
            "_view_name": "LayoutView",
            "align_content": null,
            "align_items": null,
            "align_self": null,
            "border": null,
            "bottom": null,
            "display": null,
            "flex": null,
            "flex_flow": null,
            "grid_area": null,
            "grid_auto_columns": null,
            "grid_auto_flow": null,
            "grid_auto_rows": null,
            "grid_column": null,
            "grid_gap": null,
            "grid_row": null,
            "grid_template_areas": null,
            "grid_template_columns": null,
            "grid_template_rows": null,
            "height": null,
            "justify_content": null,
            "justify_items": null,
            "left": null,
            "margin": null,
            "max_height": null,
            "max_width": null,
            "min_height": null,
            "min_width": null,
            "object_fit": null,
            "object_position": null,
            "order": null,
            "overflow": null,
            "overflow_x": null,
            "overflow_y": null,
            "padding": null,
            "right": null,
            "top": null,
            "visibility": null,
            "width": null
          }
        },
        "b072f613e6f145a585fb95a4063b2edb": {
          "model_module": "@jupyter-widgets/controls",
          "model_module_version": "1.5.0",
          "model_name": "DescriptionStyleModel",
          "state": {
            "_model_module": "@jupyter-widgets/controls",
            "_model_module_version": "1.5.0",
            "_model_name": "DescriptionStyleModel",
            "_view_count": null,
            "_view_module": "@jupyter-widgets/base",
            "_view_module_version": "1.2.0",
            "_view_name": "StyleView",
            "description_width": ""
          }
        },
        "b454197968e74834858393f91e19ffb2": {
          "model_module": "@jupyter-widgets/controls",
          "model_module_version": "1.5.0",
          "model_name": "HTMLModel",
          "state": {
            "_dom_classes": [],
            "_model_module": "@jupyter-widgets/controls",
            "_model_module_version": "1.5.0",
            "_model_name": "HTMLModel",
            "_view_count": null,
            "_view_module": "@jupyter-widgets/controls",
            "_view_module_version": "1.5.0",
            "_view_name": "HTMLView",
            "description": "",
            "description_tooltip": null,
            "layout": "IPY_MODEL_f749e9c51c464b7690f287c9e897f396",
            "placeholder": "​",
            "style": "IPY_MODEL_6414e9d91871487394bb14c6c505f87d",
            "value": "  0%"
          }
        },
        "bbd6a3680acb4f259e190985e74e41cf": {
          "model_module": "@jupyter-widgets/controls",
          "model_module_version": "1.5.0",
          "model_name": "HBoxModel",
          "state": {
            "_dom_classes": [],
            "_model_module": "@jupyter-widgets/controls",
            "_model_module_version": "1.5.0",
            "_model_name": "HBoxModel",
            "_view_count": null,
            "_view_module": "@jupyter-widgets/controls",
            "_view_module_version": "1.5.0",
            "_view_name": "HBoxView",
            "box_style": "",
            "children": [
              "IPY_MODEL_b454197968e74834858393f91e19ffb2",
              "IPY_MODEL_9a2c20a4634649f69667eac644538f58",
              "IPY_MODEL_596c9e694f4742b2bb19d4ed93cabd0c"
            ],
            "layout": "IPY_MODEL_9f2438e4f21046c383e16421a1dab3a4"
          }
        },
        "caed05fb735c46cea796e0b53022e5d6": {
          "model_module": "@jupyter-widgets/controls",
          "model_module_version": "1.5.0",
          "model_name": "HTMLModel",
          "state": {
            "_dom_classes": [],
            "_model_module": "@jupyter-widgets/controls",
            "_model_module_version": "1.5.0",
            "_model_name": "HTMLModel",
            "_view_count": null,
            "_view_module": "@jupyter-widgets/controls",
            "_view_module_version": "1.5.0",
            "_view_name": "HTMLView",
            "description": "",
            "description_tooltip": null,
            "layout": "IPY_MODEL_704e843434f342c09d8bba2bda81e8b5",
            "placeholder": "​",
            "style": "IPY_MODEL_b072f613e6f145a585fb95a4063b2edb",
            "value": " 71%"
          }
        },
        "cc6ddd8c77c04560beb1c00b737ca4e1": {
          "model_module": "@jupyter-widgets/base",
          "model_module_version": "1.2.0",
          "model_name": "LayoutModel",
          "state": {
            "_model_module": "@jupyter-widgets/base",
            "_model_module_version": "1.2.0",
            "_model_name": "LayoutModel",
            "_view_count": null,
            "_view_module": "@jupyter-widgets/base",
            "_view_module_version": "1.2.0",
            "_view_name": "LayoutView",
            "align_content": null,
            "align_items": null,
            "align_self": null,
            "border": null,
            "bottom": null,
            "display": null,
            "flex": null,
            "flex_flow": null,
            "grid_area": null,
            "grid_auto_columns": null,
            "grid_auto_flow": null,
            "grid_auto_rows": null,
            "grid_column": null,
            "grid_gap": null,
            "grid_row": null,
            "grid_template_areas": null,
            "grid_template_columns": null,
            "grid_template_rows": null,
            "height": null,
            "justify_content": null,
            "justify_items": null,
            "left": null,
            "margin": null,
            "max_height": null,
            "max_width": null,
            "min_height": null,
            "min_width": null,
            "object_fit": null,
            "object_position": null,
            "order": null,
            "overflow": null,
            "overflow_x": null,
            "overflow_y": null,
            "padding": null,
            "right": null,
            "top": null,
            "visibility": null,
            "width": null
          }
        },
        "cec1ede4fa4b45bbbf7d85bb4ee426ac": {
          "model_module": "@jupyter-widgets/controls",
          "model_module_version": "1.5.0",
          "model_name": "ProgressStyleModel",
          "state": {
            "_model_module": "@jupyter-widgets/controls",
            "_model_module_version": "1.5.0",
            "_model_name": "ProgressStyleModel",
            "_view_count": null,
            "_view_module": "@jupyter-widgets/base",
            "_view_module_version": "1.2.0",
            "_view_name": "StyleView",
            "bar_color": null,
            "description_width": ""
          }
        },
        "d244060144384f75adf7dc960a6d57a1": {
          "model_module": "@jupyter-widgets/base",
          "model_module_version": "1.2.0",
          "model_name": "LayoutModel",
          "state": {
            "_model_module": "@jupyter-widgets/base",
            "_model_module_version": "1.2.0",
            "_model_name": "LayoutModel",
            "_view_count": null,
            "_view_module": "@jupyter-widgets/base",
            "_view_module_version": "1.2.0",
            "_view_name": "LayoutView",
            "align_content": null,
            "align_items": null,
            "align_self": null,
            "border": null,
            "bottom": null,
            "display": null,
            "flex": null,
            "flex_flow": null,
            "grid_area": null,
            "grid_auto_columns": null,
            "grid_auto_flow": null,
            "grid_auto_rows": null,
            "grid_column": null,
            "grid_gap": null,
            "grid_row": null,
            "grid_template_areas": null,
            "grid_template_columns": null,
            "grid_template_rows": null,
            "height": null,
            "justify_content": null,
            "justify_items": null,
            "left": null,
            "margin": null,
            "max_height": null,
            "max_width": null,
            "min_height": null,
            "min_width": null,
            "object_fit": null,
            "object_position": null,
            "order": null,
            "overflow": null,
            "overflow_x": null,
            "overflow_y": null,
            "padding": null,
            "right": null,
            "top": null,
            "visibility": null,
            "width": null
          }
        },
        "e0118f5e0b804734a22b46270c890b2f": {
          "model_module": "@jupyter-widgets/controls",
          "model_module_version": "1.5.0",
          "model_name": "DescriptionStyleModel",
          "state": {
            "_model_module": "@jupyter-widgets/controls",
            "_model_module_version": "1.5.0",
            "_model_name": "DescriptionStyleModel",
            "_view_count": null,
            "_view_module": "@jupyter-widgets/base",
            "_view_module_version": "1.2.0",
            "_view_name": "StyleView",
            "description_width": ""
          }
        },
        "e13194ba5f674c7192d3a50deb436f1f": {
          "model_module": "@jupyter-widgets/base",
          "model_module_version": "1.2.0",
          "model_name": "LayoutModel",
          "state": {
            "_model_module": "@jupyter-widgets/base",
            "_model_module_version": "1.2.0",
            "_model_name": "LayoutModel",
            "_view_count": null,
            "_view_module": "@jupyter-widgets/base",
            "_view_module_version": "1.2.0",
            "_view_name": "LayoutView",
            "align_content": null,
            "align_items": null,
            "align_self": null,
            "border": null,
            "bottom": null,
            "display": null,
            "flex": null,
            "flex_flow": null,
            "grid_area": null,
            "grid_auto_columns": null,
            "grid_auto_flow": null,
            "grid_auto_rows": null,
            "grid_column": null,
            "grid_gap": null,
            "grid_row": null,
            "grid_template_areas": null,
            "grid_template_columns": null,
            "grid_template_rows": null,
            "height": null,
            "justify_content": null,
            "justify_items": null,
            "left": null,
            "margin": null,
            "max_height": null,
            "max_width": null,
            "min_height": null,
            "min_width": null,
            "object_fit": null,
            "object_position": null,
            "order": null,
            "overflow": null,
            "overflow_x": null,
            "overflow_y": null,
            "padding": null,
            "right": null,
            "top": null,
            "visibility": null,
            "width": null
          }
        },
        "e7e87601443942728d603cde52a4a684": {
          "model_module": "@jupyter-widgets/base",
          "model_module_version": "1.2.0",
          "model_name": "LayoutModel",
          "state": {
            "_model_module": "@jupyter-widgets/base",
            "_model_module_version": "1.2.0",
            "_model_name": "LayoutModel",
            "_view_count": null,
            "_view_module": "@jupyter-widgets/base",
            "_view_module_version": "1.2.0",
            "_view_name": "LayoutView",
            "align_content": null,
            "align_items": null,
            "align_self": null,
            "border": null,
            "bottom": null,
            "display": null,
            "flex": null,
            "flex_flow": null,
            "grid_area": null,
            "grid_auto_columns": null,
            "grid_auto_flow": null,
            "grid_auto_rows": null,
            "grid_column": null,
            "grid_gap": null,
            "grid_row": null,
            "grid_template_areas": null,
            "grid_template_columns": null,
            "grid_template_rows": null,
            "height": null,
            "justify_content": null,
            "justify_items": null,
            "left": null,
            "margin": null,
            "max_height": null,
            "max_width": null,
            "min_height": null,
            "min_width": null,
            "object_fit": null,
            "object_position": null,
            "order": null,
            "overflow": null,
            "overflow_x": null,
            "overflow_y": null,
            "padding": null,
            "right": null,
            "top": null,
            "visibility": null,
            "width": null
          }
        },
        "ea13ec9c0b4d40aabab9ea85d0dd1e43": {
          "model_module": "@jupyter-widgets/controls",
          "model_module_version": "1.5.0",
          "model_name": "DescriptionStyleModel",
          "state": {
            "_model_module": "@jupyter-widgets/controls",
            "_model_module_version": "1.5.0",
            "_model_name": "DescriptionStyleModel",
            "_view_count": null,
            "_view_module": "@jupyter-widgets/base",
            "_view_module_version": "1.2.0",
            "_view_name": "StyleView",
            "description_width": ""
          }
        },
        "f16fcf8d4a5f4d9c951a247f02fc9a16": {
          "model_module": "@jupyter-widgets/base",
          "model_module_version": "1.2.0",
          "model_name": "LayoutModel",
          "state": {
            "_model_module": "@jupyter-widgets/base",
            "_model_module_version": "1.2.0",
            "_model_name": "LayoutModel",
            "_view_count": null,
            "_view_module": "@jupyter-widgets/base",
            "_view_module_version": "1.2.0",
            "_view_name": "LayoutView",
            "align_content": null,
            "align_items": null,
            "align_self": null,
            "border": null,
            "bottom": null,
            "display": null,
            "flex": null,
            "flex_flow": null,
            "grid_area": null,
            "grid_auto_columns": null,
            "grid_auto_flow": null,
            "grid_auto_rows": null,
            "grid_column": null,
            "grid_gap": null,
            "grid_row": null,
            "grid_template_areas": null,
            "grid_template_columns": null,
            "grid_template_rows": null,
            "height": null,
            "justify_content": null,
            "justify_items": null,
            "left": null,
            "margin": null,
            "max_height": null,
            "max_width": null,
            "min_height": null,
            "min_width": null,
            "object_fit": null,
            "object_position": null,
            "order": null,
            "overflow": null,
            "overflow_x": null,
            "overflow_y": null,
            "padding": null,
            "right": null,
            "top": null,
            "visibility": null,
            "width": null
          }
        },
        "f749e9c51c464b7690f287c9e897f396": {
          "model_module": "@jupyter-widgets/base",
          "model_module_version": "1.2.0",
          "model_name": "LayoutModel",
          "state": {
            "_model_module": "@jupyter-widgets/base",
            "_model_module_version": "1.2.0",
            "_model_name": "LayoutModel",
            "_view_count": null,
            "_view_module": "@jupyter-widgets/base",
            "_view_module_version": "1.2.0",
            "_view_name": "LayoutView",
            "align_content": null,
            "align_items": null,
            "align_self": null,
            "border": null,
            "bottom": null,
            "display": null,
            "flex": null,
            "flex_flow": null,
            "grid_area": null,
            "grid_auto_columns": null,
            "grid_auto_flow": null,
            "grid_auto_rows": null,
            "grid_column": null,
            "grid_gap": null,
            "grid_row": null,
            "grid_template_areas": null,
            "grid_template_columns": null,
            "grid_template_rows": null,
            "height": null,
            "justify_content": null,
            "justify_items": null,
            "left": null,
            "margin": null,
            "max_height": null,
            "max_width": null,
            "min_height": null,
            "min_width": null,
            "object_fit": null,
            "object_position": null,
            "order": null,
            "overflow": null,
            "overflow_x": null,
            "overflow_y": null,
            "padding": null,
            "right": null,
            "top": null,
            "visibility": null,
            "width": null
          }
        },
        "fab8af6df5dd450f9cf0031112377425": {
          "model_module": "@jupyter-widgets/base",
          "model_module_version": "1.2.0",
          "model_name": "LayoutModel",
          "state": {
            "_model_module": "@jupyter-widgets/base",
            "_model_module_version": "1.2.0",
            "_model_name": "LayoutModel",
            "_view_count": null,
            "_view_module": "@jupyter-widgets/base",
            "_view_module_version": "1.2.0",
            "_view_name": "LayoutView",
            "align_content": null,
            "align_items": null,
            "align_self": null,
            "border": null,
            "bottom": null,
            "display": null,
            "flex": null,
            "flex_flow": null,
            "grid_area": null,
            "grid_auto_columns": null,
            "grid_auto_flow": null,
            "grid_auto_rows": null,
            "grid_column": null,
            "grid_gap": null,
            "grid_row": null,
            "grid_template_areas": null,
            "grid_template_columns": null,
            "grid_template_rows": null,
            "height": null,
            "justify_content": null,
            "justify_items": null,
            "left": null,
            "margin": null,
            "max_height": null,
            "max_width": null,
            "min_height": null,
            "min_width": null,
            "object_fit": null,
            "object_position": null,
            "order": null,
            "overflow": null,
            "overflow_x": null,
            "overflow_y": null,
            "padding": null,
            "right": null,
            "top": null,
            "visibility": null,
            "width": null
          }
        },
        "fcff0529776b4b3b9dcce1852a09c06f": {
          "model_module": "@jupyter-widgets/base",
          "model_module_version": "1.2.0",
          "model_name": "LayoutModel",
          "state": {
            "_model_module": "@jupyter-widgets/base",
            "_model_module_version": "1.2.0",
            "_model_name": "LayoutModel",
            "_view_count": null,
            "_view_module": "@jupyter-widgets/base",
            "_view_module_version": "1.2.0",
            "_view_name": "LayoutView",
            "align_content": null,
            "align_items": null,
            "align_self": null,
            "border": null,
            "bottom": null,
            "display": null,
            "flex": null,
            "flex_flow": null,
            "grid_area": null,
            "grid_auto_columns": null,
            "grid_auto_flow": null,
            "grid_auto_rows": null,
            "grid_column": null,
            "grid_gap": null,
            "grid_row": null,
            "grid_template_areas": null,
            "grid_template_columns": null,
            "grid_template_rows": null,
            "height": null,
            "justify_content": null,
            "justify_items": null,
            "left": null,
            "margin": null,
            "max_height": null,
            "max_width": null,
            "min_height": null,
            "min_width": null,
            "object_fit": null,
            "object_position": null,
            "order": null,
            "overflow": null,
            "overflow_x": null,
            "overflow_y": null,
            "padding": null,
            "right": null,
            "top": null,
            "visibility": null,
            "width": null
          }
        }
      }
    }
  },
  "nbformat": 4,
  "nbformat_minor": 0
}