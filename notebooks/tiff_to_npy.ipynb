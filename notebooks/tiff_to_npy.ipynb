{
 "cells": [
  {
   "cell_type": "code",
   "execution_count": 5,
   "id": "1852f71f",
   "metadata": {},
   "outputs": [],
   "source": [
    "import numpy as np\n",
    "\n",
    "import tifffile as tiff\n",
    "\n",
    "import os\n",
    "from tqdm.notebook import tqdm\n",
    "\n",
    "import prepare_utils"
   ]
  },
  {
   "cell_type": "code",
   "execution_count": 3,
   "id": "3c92dda8",
   "metadata": {},
   "outputs": [],
   "source": [
    "dir_path = './data'\n",
    "filenames = os.listdir(dir_path)"
   ]
  },
  {
   "cell_type": "code",
   "execution_count": 9,
   "id": "ac10c9a4",
   "metadata": {},
   "outputs": [],
   "source": [
    "def prepare_data(data):\n",
    "    data_blur, sobelx, sobely = prepare_utils.calculate(data,\n",
    "                                                    half_size=data.shape[0] // 2,\n",
    "                                                    kernel_size=15,\n",
    "                                                    radius=1230,\n",
    "                                                    even_number=True)\n",
    "    sobelx = prepare_utils.std_scaler(sobelx)\n",
    "    sobely = prepare_utils.std_scaler(sobely)\n",
    "    full_image_test = np.stack((data_blur, sobelx, sobely), axis=2)\n",
    "    full_image_test = np.reshape(full_image_test, newshape=(1,) + full_image_test.shape)\n",
    "    return full_image_test"
   ]
  },
  {
   "cell_type": "code",
   "execution_count": 15,
   "id": "c0ee9c7a",
   "metadata": {},
   "outputs": [
    {
     "data": {
      "application/vnd.jupyter.widget-view+json": {
       "model_id": "a0423eded152460babd92777ecba60af",
       "version_major": 2,
       "version_minor": 0
      },
      "text/plain": [
       "  0%|          | 0/484 [00:00<?, ?it/s]"
      ]
     },
     "metadata": {},
     "output_type": "display_data"
    }
   ],
   "source": [
    "test_data_list = []\n",
    "for i in tqdm(range(len(filenames))):\n",
    "    file = tiff.imread(os.path.join(dir_path, filenames[0]))\n",
    "    full_image_i = prepare_data(file[::4, ::4])\n",
    "    test_data_list.append(full_image_i)    "
   ]
  },
  {
   "cell_type": "code",
   "execution_count": 16,
   "id": "7f2a8405",
   "metadata": {},
   "outputs": [
    {
     "data": {
      "text/plain": [
       "484"
      ]
     },
     "execution_count": 16,
     "metadata": {},
     "output_type": "execute_result"
    }
   ],
   "source": [
    "len(test_data_list)"
   ]
  },
  {
   "cell_type": "code",
   "execution_count": 17,
   "id": "5db2155d",
   "metadata": {},
   "outputs": [
    {
     "data": {
      "text/plain": [
       "(484, 646, 646, 3)"
      ]
     },
     "execution_count": 17,
     "metadata": {},
     "output_type": "execute_result"
    }
   ],
   "source": [
    "test_data_array = np.vstack(test_data_list)\n",
    "test_data_array.shape"
   ]
  },
  {
   "cell_type": "code",
   "execution_count": 18,
   "id": "03810fdd",
   "metadata": {},
   "outputs": [],
   "source": [
    "np.save('train_data/without_noise/full_kern_test.npy', test_data_array)"
   ]
  },
  {
   "cell_type": "code",
   "execution_count": null,
   "id": "fe0df47f",
   "metadata": {},
   "outputs": [],
   "source": []
  }
 ],
 "metadata": {
  "kernelspec": {
   "display_name": "Python 3 (ipykernel)",
   "language": "python",
   "name": "python3"
  },
  "language_info": {
   "codemirror_mode": {
    "name": "ipython",
    "version": 3
   },
   "file_extension": ".py",
   "mimetype": "text/x-python",
   "name": "python",
   "nbconvert_exporter": "python",
   "pygments_lexer": "ipython3",
   "version": "3.11.5"
  }
 },
 "nbformat": 4,
 "nbformat_minor": 5
}
